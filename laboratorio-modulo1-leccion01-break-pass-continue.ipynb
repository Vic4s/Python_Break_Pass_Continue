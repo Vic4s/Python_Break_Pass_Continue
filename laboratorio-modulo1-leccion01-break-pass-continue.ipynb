{
 "cells": [
  {
   "cell_type": "markdown",
   "metadata": {},
   "source": [
    "\n",
    "<div style=\"text-align: center;\">\n",
    "  <img src=\"https://github.com/Hack-io-Data/Imagenes/blob/main/01-LogosHackio/logo_celeste@4x.png?raw=true\" alt=\"esquema\" />\n",
    "</div>\n"
   ]
  },
  {
   "cell_type": "markdown",
   "metadata": {},
   "source": [
    "# Laboratorio de Python: break(), pass(), continue()"
   ]
  },
  {
   "cell_type": "markdown",
   "metadata": {},
   "source": [
    "## Ejercicio 1: Validación de datos numéricos. \n",
    "\n",
    "Escribe un bucle que lea una lista de números y detenga la ejecución si encuentra un valor negativo. Muestra un mensaje indicando el número negativo encontrado.\n"
   ]
  },
  {
   "cell_type": "code",
   "execution_count": 2,
   "metadata": {},
   "outputs": [
    {
     "name": "stdout",
     "output_type": "stream",
     "text": [
      "1\n",
      "2\n",
      "3\n",
      "4\n",
      "8\n",
      "10\n"
     ]
    }
   ],
   "source": [
    "lista = [1, 2, 3, 4, -5, -7, 8, 10]\n",
    "\n",
    "for num in lista:\n",
    "    if num > 0:\n",
    "        print(num)\n",
    "    else:\n",
    "        #print(f\"{num} es negativo\")\n",
    "        continue\n"
   ]
  },
  {
   "cell_type": "markdown",
   "metadata": {},
   "source": [
    "\n",
    "## Ejercicio 2: Filtrado de datos\n",
    "\n",
    "Escribe un bucle que imprima los números de una lista, pero que omita los números pares.\n"
   ]
  },
  {
   "cell_type": "code",
   "execution_count": 3,
   "metadata": {},
   "outputs": [
    {
     "name": "stdout",
     "output_type": "stream",
     "text": [
      "2\n",
      "4\n",
      "8\n",
      "10\n"
     ]
    }
   ],
   "source": [
    "lista = [1, 2, 3, 4, -5, -7, 8, 10]\n",
    "\n",
    "for num in lista:\n",
    "    if num % 2 == 0:\n",
    "        print(num)\n",
    "    else:\n",
    "        #print(f\"{num} es negativo\")\n",
    "        continue\n"
   ]
  },
  {
   "cell_type": "markdown",
   "metadata": {},
   "source": [
    "## Ejercicio 3: Búsqueda de un valor\n",
    "\n",
    "Escribe un programa que busque un valor específico en una lista y detenga la búsqueda cuando lo encuentre. Si se encuentra, muestra un mensaje.\n"
   ]
  },
  {
   "cell_type": "code",
   "execution_count": null,
   "metadata": {},
   "outputs": [
    {
     "name": "stdout",
     "output_type": "stream",
     "text": [
      "1\n",
      "2\n",
      "3\n",
      "4\n",
      "Hemos encontrado el numero 4\n"
     ]
    }
   ],
   "source": [
    "lista = [1, 2, 3, 4, -5, -7, 8, 10]\n",
    "\n",
    "for num in lista:\n",
    "    #print(num)\n",
    "    if num == 4:\n",
    "        print(f\"Hemos encontrado el numero {num}\")\n",
    "        break\n",
    "    \n",
    "        "
   ]
  },
  {
   "cell_type": "markdown",
   "metadata": {},
   "source": [
    "## Ejercicio 4: Estructura de código incompleto\n",
    "\n",
    "Define una función que aún no tenga lógica implementada, pero que se pueda ejecutar sin errores utilizando `pass`."
   ]
  },
  {
   "cell_type": "code",
   "execution_count": null,
   "metadata": {},
   "outputs": [
    {
     "name": "stdout",
     "output_type": "stream",
     "text": [
      "Hemos encontrado el numero 4\n"
     ]
    }
   ],
   "source": [
    "def funcion_prueba(param):\n",
    "    pass\n",
    "\n",
    "lista = [1, 2, 3, 4, -5, -7, 8, 10]\n",
    "\n",
    "for num in lista:\n",
    "    #print(num)\n",
    "    if num == 4:\n",
    "        print(f\"Hemos encontrado el numero {num}\")\n",
    "        break"
   ]
  },
  {
   "cell_type": "markdown",
   "metadata": {},
   "source": [
    "## Ejercicio 5: Validación condicional\n",
    "\n",
    "Escribe un bucle que verifique una lista de nombres. Si encuentra un nombre vacío (cadena vacía), salta esa iteración y continúa con los demás nombres.\n"
   ]
  },
  {
   "cell_type": "code",
   "execution_count": 13,
   "metadata": {},
   "outputs": [
    {
     "name": "stdout",
     "output_type": "stream",
     "text": [
      "Carla\n",
      "Lucia\n",
      "Adrian\n",
      "Vicent\n",
      "Juan\n"
     ]
    }
   ],
   "source": [
    "lista = [\"Carla\", \"Lucia\", \"\", \"Adrian\", \"Vicent\", \"\", \"Juan\"]\n",
    "\n",
    "for nombre in lista:\n",
    "    if nombre != \"\":\n",
    "        print(nombre)\n",
    "    else:\n",
    "        #print(f\"{num} es negativo\")\n",
    "        continue\n"
   ]
  },
  {
   "cell_type": "markdown",
   "metadata": {},
   "source": [
    "## Ejercicio 6: Búsqueda de claves en un diccionario\n",
    "\n",
    "Escribe un programa que recorra un diccionario y detenga la búsqueda si encuentra una clave específica pasada por el usuario.\n"
   ]
  },
  {
   "cell_type": "code",
   "execution_count": 19,
   "metadata": {},
   "outputs": [
    {
     "name": "stdout",
     "output_type": "stream",
     "text": [
      "marca\n",
      "modelo\n",
      "color\n",
      "CV\n",
      "------------------ \n",
      "marca\n",
      "Has elegido: modelo\n"
     ]
    }
   ],
   "source": [
    "vehiculo = {\"marca\": \"Ford\",\n",
    "            \"modelo\": \"Mustang\",\n",
    "            \"color\": \"Negro\",\n",
    "            \"CV\": 200}\n",
    "\n",
    "#Visualizar info Diccionario\n",
    "for clave in vehiculo:\n",
    "    print(clave)\n",
    "print(\"------------------ \")\n",
    "valor = input(\"[Se muestran las claves] Indica una clave del diccionario:\")\n",
    "\n",
    "for clave in vehiculo:\n",
    "    if clave == valor:\n",
    "        print(f\"Has elegido: {clave}\")\n",
    "        break\n",
    "    else:\n",
    "        print(clave)"
   ]
  },
  {
   "cell_type": "markdown",
   "metadata": {},
   "source": [
    "## Ejercicio 7: Bucle con múltiples excepciones\n",
    "\n",
    "Escribe un bucle que procese una lista de operaciones matemáticas, omitiendo las operaciones que intenten dividir por cero.\n"
   ]
  },
  {
   "cell_type": "code",
   "execution_count": 28,
   "metadata": {},
   "outputs": [
    {
     "name": "stdout",
     "output_type": "stream",
     "text": [
      "1 * 23 = 23\n",
      "1 * 0 = 0\n",
      "1 * 2 = 2\n",
      "1 / 23 = 0.043478260869565216\n",
      "1 / 0 --> Div por 0\n",
      "1 / 2 = 0.5\n",
      "5 * 23 = 115\n",
      "5 * 0 = 0\n",
      "5 * 2 = 10\n",
      "5 / 23 = 0.21739130434782608\n",
      "5 / 0 --> Div por 0\n",
      "5 / 2 = 2.5\n",
      "3 * 23 = 69\n",
      "3 * 0 = 0\n",
      "3 * 2 = 6\n",
      "3 / 23 = 0.13043478260869565\n",
      "3 / 0 --> Div por 0\n",
      "3 / 2 = 1.5\n",
      "23\n",
      "0\n",
      "2\n",
      "0.043478260869565216\n",
      "0.5\n",
      "115\n",
      "0\n",
      "10\n",
      "0.21739130434782608\n",
      "2.5\n",
      "69\n",
      "0\n",
      "6\n",
      "0.13043478260869565\n",
      "1.5\n"
     ]
    }
   ],
   "source": [
    "lista_num1 = [1, 5, 3]\n",
    "lista_num2 = [23, 0, 2]\n",
    "operacion = [\"*\", \"/\"]\n",
    "\n",
    "results = []\n",
    "\n",
    "for n1 in lista_num1:\n",
    "    for op in operacion:\n",
    "        for n2 in lista_num2:\n",
    "            if op == \"+\":\n",
    "                print((f\"{n1} + {n2} = {n1+n2}\"))\n",
    "                results.append(n1+n2)\n",
    "            if op == \"-\":\n",
    "                print((f\"{n1} - {n2} = {n1-n2}\"))\n",
    "                results.append(n1-n2)\n",
    "            if op == \"*\":\n",
    "                print((f\"{n1} * {n2} = {n1*n2}\"))\n",
    "                results.append(n1*n2)\n",
    "            if op == \"/\":\n",
    "                \n",
    "                if n2 == 0:\n",
    "                    print((f\"{n1} / {n2} --> Div por 0\"))\n",
    "                    continue\n",
    "                else:\n",
    "                    print((f\"{n1} / {n2} = {n1/n2}\"))\n",
    "                    results.append(n1/n2)\n",
    "            \n",
    "for nums in results:\n",
    "    print(nums)       \n",
    "    "
   ]
  },
  {
   "cell_type": "markdown",
   "metadata": {},
   "source": [
    "## Ejercicio 8: Búsqueda en una lista anidada\n",
    "\n",
    "Escribe un programa que recorra una lista de listas y detenga la búsqueda cuando encuentre un valor mayor a 50.\n"
   ]
  },
  {
   "cell_type": "code",
   "execution_count": 39,
   "metadata": {},
   "outputs": [
    {
     "name": "stdout",
     "output_type": "stream",
     "text": [
      "1\n",
      "50\n",
      "23\n",
      "5\n",
      "12\n",
      "67 > 50\n"
     ]
    }
   ],
   "source": [
    "lista_valores = [[1, 50, 23, 5], [12, 67, 90, 123], [3, 34, 1, 2]]\n",
    "\n",
    "num50 = False\n",
    "\n",
    "for lista_interna in lista_valores:\n",
    "    for valor in lista_interna:\n",
    "        if valor > 50:\n",
    "            print(f\"{valor} > 50\")\n",
    "            num50 = True\n",
    "            break # Salir del bucle interno\n",
    "        else:\n",
    "            print(valor)\n",
    "    if num50:\n",
    "        break # Salir del bucle externo"
   ]
  },
  {
   "cell_type": "markdown",
   "metadata": {},
   "source": [
    "## Ejercicio 9: Evaluación de series temporales\n",
    "\n",
    "Escribe un programa que recorra una lista de datos de series temporales y se detenga si encuentra un valor atípico (mayor a 100).\n"
   ]
  },
  {
   "cell_type": "code",
   "execution_count": 3,
   "metadata": {},
   "outputs": [
    {
     "name": "stdout",
     "output_type": "stream",
     "text": [
      "1\n",
      "63\n",
      "29\n",
      "200 > 100\n"
     ]
    }
   ],
   "source": [
    "lista_v = [1, 63, 29, 200, 23, 5, 120, 93, 35]\n",
    "\n",
    "for num in lista_v:\n",
    "    if num > 100:\n",
    "        print(f\"{num} > 100\")\n",
    "        break # Salir del bucle interno\n",
    "    else:\n",
    "        print(num)\n",
    "    "
   ]
  },
  {
   "cell_type": "markdown",
   "metadata": {},
   "source": [
    "## Ejercicio 10: Iteración con valores faltantes\n",
    "\n",
    "Crea un bucle que recorra una lista de datos de ventas y salte los valores faltantes representados por `None`."
   ]
  },
  {
   "cell_type": "code",
   "execution_count": 6,
   "metadata": {},
   "outputs": [
    {
     "name": "stdout",
     "output_type": "stream",
     "text": [
      "1\n",
      "63\n",
      "29\n",
      "200\n",
      "5\n",
      "120\n",
      "35\n"
     ]
    }
   ],
   "source": [
    "lista_ventas = [1, 63, 29, 200, None, 5, 120, None, 35]\n",
    "\n",
    "for num in lista_ventas:\n",
    "    if num == None:\n",
    "        #print(num)\n",
    "        continue\n",
    "    else:\n",
    "        print(num)"
   ]
  },
  {
   "cell_type": "markdown",
   "metadata": {},
   "source": [
    "## Ejercicio 11: Control de flujo en bucles anidados\n",
    "\n",
    "Escribe un bucle que recorra la matriz dada y se detenga si se encuentra un número negativo, mostrando su posición.\n",
    "\n"
   ]
  },
  {
   "cell_type": "code",
   "execution_count": 22,
   "metadata": {},
   "outputs": [
    {
     "name": "stdout",
     "output_type": "stream",
     "text": [
      "1\n",
      "50\n",
      "23\n",
      "5\n",
      "12\n",
      "67\n",
      "90\n",
      "123\n",
      "-3 es NEGATIVO\n",
      "Encontrado en lista 3 fila 3 columna 1\n"
     ]
    }
   ],
   "source": [
    "matriz = [[1, 50, 23, 5], \n",
    "          [12, 67, 90, 123], \n",
    "          [-3, 34, 1, 2]]\n",
    "\n",
    "valor_negativo = False\n",
    "\n",
    "contador_lista = 0\n",
    "contador_columna = 0\n",
    "contador_fila = 0\n",
    "\n",
    "for lista_interna in matriz:\n",
    "    contador_lista += 1\n",
    "    contador_fila +=1\n",
    "    for valor in lista_interna:\n",
    "            contador_columna +=1\n",
    "            if contador_columna > 4:\n",
    "                 contador_columna = 1\n",
    "            if valor < 0:\n",
    "                print(f\"{valor} es NEGATIVO\")\n",
    "                print(f\"Encontrado en lista {contador_lista} fila {contador_fila} columna {contador_columna}\")\n",
    "                break # Salir del bucle interno\n",
    "            else:\n",
    "                print(valor)\n",
    "    if valor < 0:\n",
    "        break # Salir del bucle externo\n",
    "\n",
    "\n"
   ]
  },
  {
   "cell_type": "markdown",
   "metadata": {},
   "source": [
    "## Ejercicio 12: Placeholder para funciones incompletas\n",
    "\n",
    "Escribe una función que tenga un bloque de control que aún no esté implementado, utilizando `pass` para que no genere errores."
   ]
  },
  {
   "cell_type": "code",
   "execution_count": 25,
   "metadata": {},
   "outputs": [
    {
     "name": "stdout",
     "output_type": "stream",
     "text": [
      "IMPAR\n"
     ]
    }
   ],
   "source": [
    "def esPar(n):\n",
    "    if n % 2 == 0:\n",
    "       pass\n",
    "    else:\n",
    "        return print(\"IMPAR\")\n",
    "    \n",
    "esPar(3)\n",
    "esPar(4)"
   ]
  }
 ],
 "metadata": {
  "kernelspec": {
   "display_name": "Python 3",
   "language": "python",
   "name": "python3"
  },
  "language_info": {
   "codemirror_mode": {
    "name": "ipython",
    "version": 3
   },
   "file_extension": ".py",
   "mimetype": "text/x-python",
   "name": "python",
   "nbconvert_exporter": "python",
   "pygments_lexer": "ipython3",
   "version": "3.12.5"
  }
 },
 "nbformat": 4,
 "nbformat_minor": 2
}
